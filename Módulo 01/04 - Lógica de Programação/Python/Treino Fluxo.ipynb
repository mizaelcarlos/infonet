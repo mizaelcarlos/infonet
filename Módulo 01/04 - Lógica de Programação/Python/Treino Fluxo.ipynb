{
 "cells": [
  {
   "cell_type": "code",
   "execution_count": null,
   "metadata": {},
   "outputs": [],
   "source": [
    "# Treinamento de como funciona o fluxo de um programa\n",
    "# 1\n",
    "\n",
    "print(\"oi 1\")"
   ]
  },
  {
   "cell_type": "code",
   "execution_count": null,
   "metadata": {},
   "outputs": [],
   "source": [
    "# 2\n",
    "\n",
    "x = 1\n",
    "\n",
    "print(\"oi 1\")\n",
    "\n",
    "if x == 1:\n",
    "    print(\"oi 3\")\n",
    "    print(\"oi 4\")\n",
    "    if x > 0:\n",
    "        print(\"oi 6\")\n",
    "\n",
    "print(\"oi 5\")\n",
    "print(\"oi 2\")"
   ]
  },
  {
   "cell_type": "code",
   "execution_count": null,
   "metadata": {},
   "outputs": [],
   "source": [
    "x = 1\n",
    "\n",
    "print(\"oi 0\")\n",
    "\n",
    "while x <= 4:\n",
    "    print(\"oi\", x)\n",
    "    x = x + 1\n",
    "\n",
    "print(\"oi 5\")\n",
    "\n",
    "while x <= 4:\n",
    "    pass\n",
    "\n",
    "if x == 6:\n",
    "    print(\"oi 6\")"
   ]
  },
  {
   "cell_type": "code",
   "execution_count": 16,
   "metadata": {},
   "outputs": [
    {
     "name": "stdout",
     "output_type": "stream",
     "text": [
      "O resultado da soma é: 10\n"
     ]
    }
   ],
   "source": [
    "contador = 1\n",
    "soma = 0\n",
    "\n",
    "while contador <= 5:\n",
    "    x = int(input(\"Digite um valor\"))\n",
    "    soma = soma + x\n",
    "    contador = contador + 1\n",
    "print(\"O resultado da soma é:\",soma)\n"
   ]
  },
  {
   "cell_type": "code",
   "execution_count": null,
   "metadata": {},
   "outputs": [],
   "source": [
    "x = 0\n",
    "\n",
    "while x <= 10:\n",
    "    x = int(input(\"Insira um valor\"))\n",
    "    print(x)"
   ]
  },
  {
   "cell_type": "code",
   "execution_count": null,
   "metadata": {},
   "outputs": [],
   "source": []
  },
  {
   "cell_type": "code",
   "execution_count": 8,
   "metadata": {},
   "outputs": [
    {
     "name": "stdout",
     "output_type": "stream",
     "text": [
      "1\n"
     ]
    }
   ],
   "source": [
    "'''\n",
    "oi\n",
    "'''\n",
    "\n",
    "print(1)"
   ]
  }
 ],
 "metadata": {
  "kernelspec": {
   "display_name": "Python 3",
   "language": "python",
   "name": "python3"
  },
  "language_info": {
   "codemirror_mode": {
    "name": "ipython",
    "version": 3
   },
   "file_extension": ".py",
   "mimetype": "text/x-python",
   "name": "python",
   "nbconvert_exporter": "python",
   "pygments_lexer": "ipython3",
   "version": "3.11.2"
  }
 },
 "nbformat": 4,
 "nbformat_minor": 2
}

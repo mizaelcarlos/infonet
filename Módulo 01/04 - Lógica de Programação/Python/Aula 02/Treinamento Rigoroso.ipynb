{
 "cells": [
  {
   "cell_type": "code",
   "execution_count": null,
   "metadata": {},
   "outputs": [],
   "source": [
    "#TREINAMENTO RIGOROSOOOOOO"
   ]
  },
  {
   "cell_type": "code",
   "execution_count": 3,
   "metadata": {},
   "outputs": [
    {
     "name": "stdout",
     "output_type": "stream",
     "text": [
      "correto\n"
     ]
    }
   ],
   "source": [
    "# Questão 1\n",
    "fruta = 'maçã'\n",
    "suposicao = input('Digite uma fruta: ')\n",
    "if suposicao == fruta:\n",
    "    print('correto')\n",
    "else:\n",
    "    print('incorreto')"
   ]
  },
  {
   "cell_type": "code",
   "execution_count": 5,
   "metadata": {},
   "outputs": [
    {
     "name": "stdout",
     "output_type": "stream",
     "text": [
      "fora do intervalo\n"
     ]
    }
   ],
   "source": [
    "# questao 2\n",
    "\n",
    "num= int(input('digite um numero:'))\n",
    "if num >=1 and num<=10 :\n",
    "    print ('dentro do intervalo')\n",
    "else:\n",
    "    print ('fora do intervalo')   \n",
    "    "
   ]
  },
  {
   "cell_type": "code",
   "execution_count": 9,
   "metadata": {},
   "outputs": [
    {
     "name": "stdout",
     "output_type": "stream",
     "text": [
      " o numero e par.\n"
     ]
    }
   ],
   "source": [
    "# questão 03\n",
    "numero = int(input('digite um numero:'))\n",
    "if numero % 2 == 0:\n",
    "    print(' o numero e par.')\n",
    "else:\n",
    "    print('o numero e impar.')"
   ]
  },
  {
   "cell_type": "code",
   "execution_count": null,
   "metadata": {},
   "outputs": [],
   "source": [
    "#questao04\n",
    "\n",
    "idade = int(input(\"Digite sua idade: \"))\n",
    "if idade >= 0 and idade <= 12:\n",
    "    print(\"Criança\")\n",
    "elif idade >=13 and idade <=17:\n",
    "    print(\"Adolescente\")\n",
    "elif idade >=18 and idade <=64:\n",
    "    print(\"Adulto\")\n",
    "elif idade >=65:\n",
    "    print(\"Idoso\")\n",
    "else:\n",
    "    print(\"Idade invalida\")"
   ]
  },
  {
   "cell_type": "code",
   "execution_count": 10,
   "metadata": {},
   "outputs": [
    {
     "name": "stdout",
     "output_type": "stream",
     "text": [
      "4\n"
     ]
    }
   ],
   "source": [
    "# 05\n",
    "n1 = int(input('digite n1: '))\n",
    "n2 = int(input('digite n2:  '))\n",
    "op = int(input('1 - soma\\n2 - subtracao\\n3 - multiplicacao\\n3 - divisao'))\n",
    "if op == 1:\n",
    "    print(n1+n2)\n",
    "elif op == 2:\n",
    "    print(n1-n2)\n",
    "elif op == 3:\n",
    "    print(n1*n2)\n",
    "elif op == 4:\n",
    "    print(n1/n2)\n",
    "else:\n",
    "    print('Operacoa invalida')"
   ]
  },
  {
   "cell_type": "code",
   "execution_count": 14,
   "metadata": {},
   "outputs": [
    {
     "name": "stdout",
     "output_type": "stream",
     "text": [
      " nota inválida\n"
     ]
    }
   ],
   "source": [
    "# questão 06\n",
    "\n",
    "nota1= float(input(\"Digite a primeira nota:\"))\n",
    "nota2= float(input(\"Digite a segunda nota:\")) \n",
    "nota3= float(input(\"Digite a terceira nota:\"))\n",
    "media= (nota1 + nota2 + nota3) / 3\n",
    "if media >=0 and media <=4:\n",
    "    print(\"reprovado\")\n",
    "elif media >=5 and media <=6:\n",
    "    print(\"recuperação\")\n",
    "elif media >=7 and media <=10:\n",
    "    print(\"aprovado\")\n",
    "else:\n",
    "    print(\" nota inválida\")\n"
   ]
  }
 ],
 "metadata": {
  "kernelspec": {
   "display_name": "Python 3",
   "language": "python",
   "name": "python3"
  },
  "language_info": {
   "codemirror_mode": {
    "name": "ipython",
    "version": 3
   },
   "file_extension": ".py",
   "mimetype": "text/x-python",
   "name": "python",
   "nbconvert_exporter": "python",
   "pygments_lexer": "ipython3",
   "version": "3.11.2"
  }
 },
 "nbformat": 4,
 "nbformat_minor": 2
}

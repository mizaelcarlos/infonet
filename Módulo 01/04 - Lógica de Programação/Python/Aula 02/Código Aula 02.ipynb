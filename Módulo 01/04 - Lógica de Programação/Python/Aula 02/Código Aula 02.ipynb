{
 "cells": [
  {
   "cell_type": "code",
   "execution_count": null,
   "metadata": {},
   "outputs": [],
   "source": [
    "# Entrada de dados\n",
    "\n",
    "#nome = input(\"Digite seu nome: \")          # Por padrão o input trás texto\n",
    "#print(nome)\n",
    "#idade = input(\"Digite a sua idade: \")  # Temos que converter a idade que foi passada em texto para inteiro\n",
    "nota = int(input(\"Digite sua Nota: \"))     # Convertendo também a nota para inteiro\n",
    "print(type(nota))\n",
    "print(nota)"
   ]
  },
  {
   "cell_type": "code",
   "execution_count": null,
   "metadata": {},
   "outputs": [],
   "source": [
    "nome = input(\"Digite seu nome\")\n",
    "print(nome)"
   ]
  },
  {
   "cell_type": "code",
   "execution_count": null,
   "metadata": {},
   "outputs": [],
   "source": [
    "a = 10\n",
    "b = 20\n",
    "\n",
    "# Operadores relacionais\n",
    "\n",
    "print(a == b)     # a \"é igual a\" b?\n",
    "print(a > b)      # a \"é maior que\" b?\n",
    "print(a < b)      # a \"é menor que\" b?\n",
    "print(a != b)     # a \"é diferente a\" b?\n",
    "print(a >= b)     # a \"é maior ou igual que\" b?\n",
    "print(a <= b)     # a \"é menor ou igual que\" b?"
   ]
  },
  {
   "cell_type": "code",
   "execution_count": null,
   "metadata": {},
   "outputs": [],
   "source": [
    "a = 10\n",
    "b = 20\n",
    "\n",
    "# Operadores lógicos\n",
    "\n",
    "print(a == b and 2 * a > b)   # a \"é igual a\" b \"e\" 2*a \"é maior que\" b?\n",
    "print(a == b or 2 * a > b)    # a \"é igual a\" b \"ou\" 2*a \"é maior que\" b?\n",
    "print(not a > b)              # a \"NÃO é maior que\" b?"
   ]
  },
  {
   "cell_type": "code",
   "execution_count": null,
   "metadata": {},
   "outputs": [],
   "source": [
    "# Estrutura Condicional IF\n",
    "\n",
    "idade = 17\n",
    "\n",
    "if idade >= 18:\n",
    "  print(\"Pode ir pro show\")"
   ]
  },
  {
   "cell_type": "code",
   "execution_count": null,
   "metadata": {},
   "outputs": [],
   "source": [
    "ano_nascimento = int(input(\"Digite seu ano de nascimento\"))\n",
    "\n",
    "idade_atual = 2024 - ano_nascimento\n",
    "\n",
    "if idade_atual >= 18:\n",
    "    print(f\"Você tem {idade_atual} anos, é maior de idade\")\n",
    "else:\n",
    "    print(f\"Você tem {idade_atual} anos, é menor de idade\")"
   ]
  },
  {
   "cell_type": "code",
   "execution_count": 7,
   "metadata": {},
   "outputs": [
    {
     "name": "stdout",
     "output_type": "stream",
     "text": [
      "Ano de nascimento inválido!\n"
     ]
    }
   ],
   "source": [
    "ano_nascimento = int(input(\"Digite seu ano de nascimento\"))\n",
    "\n",
    "idade_atual = 2024 - (ano_nascimento)\n",
    "\n",
    "if idade_atual >= 18 and idade_atual <= 120:\n",
    "    print(f\"Você tem {idade_atual} anos, é maior de idade\")\n",
    "elif idade_atual >= 0 and idade_atual <= 17:\n",
    "    print(f\"Você tem {idade_atual} anos, é menor de idade\")\n",
    "else:\n",
    "    print(\"Ano de nascimento inválido!\")"
   ]
  },
  {
   "cell_type": "code",
   "execution_count": 12,
   "metadata": {},
   "outputs": [
    {
     "name": "stdout",
     "output_type": "stream",
     "text": [
      "Você tem 14 anos, é maior de idade\n"
     ]
    }
   ],
   "source": [
    "ano_nascimento = int(input(\"Digite seu ano de nascimento\"))\n",
    "\n",
    "idade_atual = 2024 - (ano_nascimento)\n",
    "\n",
    "if idade_atual <= 120:\n",
    "    print(f\"Você tem {idade_atual} anos, é maior de idade\")\n",
    "elif idade_atual <= 17:\n",
    "    print(f\"Você tem {idade_atual} anos, é menor de idade\")\n",
    "else:\n",
    "    print(\"Ano de nascimento inválido!\")"
   ]
  },
  {
   "cell_type": "code",
   "execution_count": null,
   "metadata": {},
   "outputs": [],
   "source": [
    "# Estrutura Condicional IF - ELSE\n",
    "\n",
    "nota = 6\n",
    "\n",
    "if nota >= 7:\n",
    "  print(\"Aprovado\")\n",
    "else:\n",
    "  print(\"Reprovado\")"
   ]
  },
  {
   "cell_type": "code",
   "execution_count": null,
   "metadata": {},
   "outputs": [],
   "source": [
    "# Estrutura Condicional IF - ELIF - ELSE\n",
    "\n",
    "media = 7\n",
    "\n",
    "if media==10:\n",
    "  print(\"Aprovado e laureado\")\n",
    "elif media>=9 and media<10:\n",
    "  print(\"Aprovado com honra ao mérito\")\n",
    "elif media>=7:\n",
    "  print(\"Aprovado\")\n",
    "elif media>=6:\n",
    "  print(\"Prova final\")\n",
    "elif media>=4:\n",
    "  print(\"Recuperação\")\n",
    "else:\n",
    "  print(\"Reprovado\")"
   ]
  }
 ],
 "metadata": {
  "kernelspec": {
   "display_name": "Python 3",
   "language": "python",
   "name": "python3"
  },
  "language_info": {
   "codemirror_mode": {
    "name": "ipython",
    "version": 3
   },
   "file_extension": ".py",
   "mimetype": "text/x-python",
   "name": "python",
   "nbconvert_exporter": "python",
   "pygments_lexer": "ipython3",
   "version": "3.11.2"
  },
  "orig_nbformat": 4
 },
 "nbformat": 4,
 "nbformat_minor": 2
}

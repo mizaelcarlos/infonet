{
 "cells": [
  {
   "cell_type": "code",
   "execution_count": 14,
   "metadata": {},
   "outputs": [
    {
     "name": "stdout",
     "output_type": "stream",
     "text": [
      "0.9371222692110478\n",
      "3\n"
     ]
    }
   ],
   "source": [
    "# Comando Aleatório (Random)\n",
    "\n",
    "import random\n",
    "\n",
    "print(random.random())          # gera valores aleatórios de forma geral\n",
    "print(random.randint(1, 5))     # gera valores aleatórios inteiros dentro de um raio"
   ]
  }
 ],
 "metadata": {
  "kernelspec": {
   "display_name": "Python 3",
   "language": "python",
   "name": "python3"
  },
  "language_info": {
   "codemirror_mode": {
    "name": "ipython",
    "version": 3
   },
   "file_extension": ".py",
   "mimetype": "text/x-python",
   "name": "python",
   "nbconvert_exporter": "python",
   "pygments_lexer": "ipython3",
   "version": "3.11.2"
  },
  "orig_nbformat": 4
 },
 "nbformat": 4,
 "nbformat_minor": 2
}
